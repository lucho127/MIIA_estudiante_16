{
 "cells": [
  {
   "cell_type": "markdown",
   "metadata": {},
   "source": [
    "<img src=\"Archivos/miad4.png\" width=800x>\n",
    "\n",
    "# Librerías para manejo de datos: `numpy` y `pandas`\n",
    "\n",
    "En programación, una librería es un conjunto de funcionalidades que ya están escritas y podemos llamar para utilizarlas en nuestros programas. La librería `numpy` nos ofrece la posibilidad de crear arreglos y matrices multidimensionales, lo cual nos permite estructurar datos, con el fin de analizarlos más adelante. Por otro lado, `pandas` es una librería de Python que ofrece la posibilidad de manipular y explorar datos que forma fácil y rápida.\n",
    "\n",
    "En este tutorial establecemos nociones fundamentales sobre el uso de las librerías `numpy` y `pandas`, para integrarlos en procesos de análisis de datos."
   ]
  },
  {
   "cell_type": "markdown",
   "metadata": {},
   "source": [
    "## Requisitos\n",
    "\n",
    "Para desarrollar este tutorial necesitarás:\n",
    "* Utilizar estructuras de datos (listas, tuplas, diccionarios).\n",
    "* Utilizar estructuras de control (`if`, `for`, `while`)."
   ]
  },
  {
   "cell_type": "markdown",
   "metadata": {},
   "source": [
    "## Objetivos\n",
    "\n",
    "Al final de este tutorial podrás:\n",
    "\n",
    "**1.** Utilizar arreglos y operaciones básicas y vectorizadas en `numpy`. <br>\n",
    "**2.** Crear, consultar y utilizar métodos para explorar y manipular objetos tipo `Series` y `DataFrame` en `pandas`."
   ]
  },
  {
   "cell_type": "markdown",
   "metadata": {},
   "source": [
    "## 1. Librería `numpy`\n",
    "`numpy` es una librería de uso abierto para el lenguaje de Python que permite crear vectores (arreglos) y matrices multidimensionales. Esta librería nos ofrece la posibilidad de llevar a cabo operaciones matemáticas de alto nivel y con una gran velocidad."
   ]
  },
  {
   "cell_type": "markdown",
   "metadata": {},
   "source": [
    "Te recomendamos importar la libería `numpy` utilizando el nombre `np` (su alias más frecuentemente usado), como se muestra a continuación."
   ]
  },
  {
   "cell_type": "code",
   "execution_count": null,
   "metadata": {},
   "outputs": [],
   "source": [
    "import numpy as np"
   ]
  },
  {
   "cell_type": "markdown",
   "metadata": {},
   "source": [
    "### 1.1. Declaración, consulta y operaciones básicas con arreglos\n",
    "Los arreglos son la estructura principal que nos provee `numpy`. Estos nos permiten guardar información en un contenedor para aplicar operaciones sobre ellos posteriormente. Los arreglos de `numpy` tienen más funcionalidades que las listas nativas de Python."
   ]
  },
  {
   "cell_type": "markdown",
   "metadata": {},
   "source": [
    "#### Declaración\n",
    "\n",
    "Para declarar un arreglo utilizamos el método `array` del paquete `numpy`."
   ]
  },
  {
   "cell_type": "code",
   "execution_count": null,
   "metadata": {},
   "outputs": [],
   "source": [
    "arreglo = np.array([1,2,3,4])\n",
    "\n",
    "print(arreglo)"
   ]
  },
  {
   "cell_type": "markdown",
   "metadata": {},
   "source": [
    "#### Consulta\n",
    "\n",
    "Accedemos a un elemento en un arreglo con la misma sintaxis que consultamos listas. A continuación vemos un ejemplo de cómo acceder al primer elemento del arreglo `arreglo`."
   ]
  },
  {
   "cell_type": "code",
   "execution_count": null,
   "metadata": {},
   "outputs": [],
   "source": [
    "elemento1 = arreglo[0]\n",
    "\n",
    "print(\"El primer elemento del arreglo es \" + str(elemento1) + \".\")"
   ]
  },
  {
   "cell_type": "markdown",
   "metadata": {},
   "source": [
    "#### Rebanado\n",
    "\n",
    "Utilizamos la misma notación de las listas nativas de Python para acceder a una porción de un arreglo. A continuación vemos un ejemplo de cómo acceder a los últimos dos elementos del arreglo `arreglo`."
   ]
  },
  {
   "cell_type": "code",
   "execution_count": null,
   "metadata": {},
   "outputs": [],
   "source": [
    "porcion_arreglo = arreglo[-2:]\n",
    "\n",
    "print(porcion_arreglo)"
   ]
  },
  {
   "cell_type": "markdown",
   "metadata": {},
   "source": [
    "#### Operaciones básicas con arreglos: agregar y eliminar elementos\n",
    "\n",
    "Revisemos como añadir un elemento a un arreglo. Para esto, debemos especificar el arreglo y el elemento que queremos añadir al final del mismo."
   ]
  },
  {
   "cell_type": "code",
   "execution_count": null,
   "metadata": {},
   "outputs": [],
   "source": [
    "arreglo = np.append(arreglo, 5)\n",
    "\n",
    "print(arreglo)"
   ]
  },
  {
   "cell_type": "markdown",
   "metadata": {},
   "source": [
    "Ahora, revisemos como eliminar un elemento de un arreglo. Para esto, debemos especificar el arreglo y la posición del elemento que queremos eliminar."
   ]
  },
  {
   "cell_type": "code",
   "execution_count": null,
   "metadata": {},
   "outputs": [],
   "source": [
    "arreglo = np.delete(arreglo, 1)\n",
    "\n",
    "print(arreglo)"
   ]
  },
  {
   "cell_type": "markdown",
   "metadata": {},
   "source": [
    "### 1.2. Métodos comunes con arreglos en `numpy`\n",
    "\n",
    "La ventaja de utilizar arreglos de `numpy` es que estos tienen un gran número de métodos que nos permiten llevar a cabo diversos tipos de análisis. A continuación, definiremos un arreglo de tipo numerico e implementaremos algunos de los métodos más utilizados. Recomendamos que revises la bibliografía para expandir el conocimiento acerca de otros métodos."
   ]
  },
  {
   "cell_type": "code",
   "execution_count": null,
   "metadata": {},
   "outputs": [],
   "source": [
    "arreglo = np.array([1,2,3,4])"
   ]
  },
  {
   "cell_type": "markdown",
   "metadata": {},
   "source": [
    "#### Suma\n",
    "Calcula la suma de todos los elementos de un arreglo, siempre y cuando todos sean de tipo numerico."
   ]
  },
  {
   "cell_type": "code",
   "execution_count": null,
   "metadata": {},
   "outputs": [],
   "source": [
    "suma = arreglo.sum()\n",
    "\n",
    "print(\"La suma de todos los elementos es \" + str(suma) + \".\")"
   ]
  },
  {
   "cell_type": "markdown",
   "metadata": {},
   "source": [
    "#### Promedio\n",
    "Calcula el promedio de todos los elementos de un arreglo, siempre y cuando todos sean de tipo numerico."
   ]
  },
  {
   "cell_type": "code",
   "execution_count": null,
   "metadata": {},
   "outputs": [],
   "source": [
    "promedio = arreglo.mean()\n",
    "\n",
    "print(\"El promedio de todos los elementos es \" + str(promedio) + \".\")"
   ]
  },
  {
   "cell_type": "markdown",
   "metadata": {},
   "source": [
    "#### Máximo y mínimo\n",
    "Calcula el máximo y mínimo elemento dentro de un arreglo, respectivamente, siempre y cuando todos los elementos sean de tipo numerico."
   ]
  },
  {
   "cell_type": "code",
   "execution_count": null,
   "metadata": {},
   "outputs": [],
   "source": [
    "maximo = arreglo.max()\n",
    "\n",
    "print(\"El máximo elemento es \" + str(maximo) + \".\")"
   ]
  },
  {
   "cell_type": "code",
   "execution_count": null,
   "metadata": {},
   "outputs": [],
   "source": [
    "minimo = arreglo.min()\n",
    "\n",
    "print(\"El minimo elemento es \" + str(minimo) + \".\")"
   ]
  },
  {
   "cell_type": "markdown",
   "metadata": {},
   "source": [
    "#### Concatenar\n",
    "Concatena dos o más arreglos en uno."
   ]
  },
  {
   "cell_type": "code",
   "execution_count": null,
   "metadata": {},
   "outputs": [],
   "source": [
    "arreglo_1 = np.array([1,2,3,4])\n",
    "arreglo_2 = np.array([5,6,7,8])\n",
    "\n",
    "arreglo_concat = np.concatenate((arreglo_1, arreglo_2))\n",
    "\n",
    "print(arreglo_concat)"
   ]
  },
  {
   "cell_type": "markdown",
   "metadata": {},
   "source": [
    "### 1.3. Operaciones básicas sobre vectores con `numpy`\n",
    "\n",
    "Otra gran funcionalidad que nos provee `numpy` es la posibilidad de realizar operaciones vectoriales de una manera sencilla y rápida. Para esto, veremos como crear matrices con `numpy`."
   ]
  },
  {
   "cell_type": "markdown",
   "metadata": {},
   "source": [
    "#### Matrices\n",
    "\n",
    "`numpy` provee la posibilidad de crear matrices multidimensionales a las cuales les podemos aplicar múltiples operaciones. La forma de crearlas en `numpy` es la siguiente:"
   ]
  },
  {
   "cell_type": "code",
   "execution_count": null,
   "metadata": {},
   "outputs": [],
   "source": [
    "matriz = np.array( [ [1,2,3], [4,5,6] ] )\n",
    "matriz"
   ]
  },
  {
   "cell_type": "markdown",
   "metadata": {},
   "source": [
    "Creemos dos matrices para aplicarles algunas operaciones:"
   ]
  },
  {
   "cell_type": "code",
   "execution_count": null,
   "metadata": {},
   "outputs": [],
   "source": [
    "mat_1 = np.array([[1,2], [3,4]])\n",
    "mat_1"
   ]
  },
  {
   "cell_type": "code",
   "execution_count": null,
   "metadata": {},
   "outputs": [],
   "source": [
    "mat_2 = np.array([[1,1], [4,4]])\n",
    "mat_2"
   ]
  },
  {
   "cell_type": "markdown",
   "metadata": {},
   "source": [
    "Ahora, procedamos a ver operaciones con matrices en `numpy`:"
   ]
  },
  {
   "cell_type": "markdown",
   "metadata": {},
   "source": [
    "#### Suma término a término\n",
    "\n",
    "Para sumar cada elemento de `mat_1` con el elemento ubicado en la misma posición de `mat_2`, utilizamos el operador `+`."
   ]
  },
  {
   "cell_type": "code",
   "execution_count": null,
   "metadata": {},
   "outputs": [],
   "source": [
    "suma_matrices = mat_1 + mat_2\n",
    "suma_matrices"
   ]
  },
  {
   "cell_type": "markdown",
   "metadata": {},
   "source": [
    "#### Multiplicación término a término\n",
    "\n",
    "Para multiplicar cada elemento de `mat_1` con el elemento ubicado en la misma posición de `mat_2`, utilizamos el operador `*`."
   ]
  },
  {
   "cell_type": "code",
   "execution_count": null,
   "metadata": {},
   "outputs": [],
   "source": [
    "producto_matrices = mat_1 * mat_2\n",
    "producto_matrices"
   ]
  },
  {
   "cell_type": "markdown",
   "metadata": {},
   "source": [
    "#### Multiplicación matricial\n",
    "\n",
    "Para realizar una multiplicación matricial en `numpy` utilizamos el método `dot()`."
   ]
  },
  {
   "cell_type": "code",
   "execution_count": null,
   "metadata": {
    "scrolled": true
   },
   "outputs": [],
   "source": [
    "mat_1_por_mat_2 = mat_1.dot(mat_2)\n",
    "mat_1_por_mat_2"
   ]
  },
  {
   "cell_type": "code",
   "execution_count": null,
   "metadata": {},
   "outputs": [],
   "source": [
    "mat_2_por_mat_1 = mat_2.dot(mat_1)\n",
    "mat_2_por_mat_1"
   ]
  },
  {
   "cell_type": "markdown",
   "metadata": {},
   "source": [
    "#### Matriz transpuesta\n",
    "\n",
    "Para transponer una matriz en `numpy` utilizamos el método `transpose()`."
   ]
  },
  {
   "cell_type": "code",
   "execution_count": null,
   "metadata": {},
   "outputs": [],
   "source": [
    "trans_matriz = mat_1.transpose()\n",
    "trans_matriz"
   ]
  },
  {
   "cell_type": "markdown",
   "metadata": {},
   "source": [
    "#### Expresión lógica término a término\n",
    "\n",
    "Podemos aplicar los operadores lógicos `&`, `|` y `~` (similares a `and`, `or` y `not`, respectivamente) a dos objetos tipo `array` de `numpy` (que contengan valores de tipo `bool`), con el fin de evaluar término a término la condición lógica."
   ]
  },
  {
   "cell_type": "code",
   "execution_count": null,
   "metadata": {},
   "outputs": [],
   "source": [
    "arreglo_booleano = np.array([True, False, False]) | np.array([True, True, False])\n",
    "arreglo_booleano"
   ]
  },
  {
   "cell_type": "markdown",
   "metadata": {},
   "source": [
    "## 2. Librería `pandas`\n",
    "\n",
    "`pandas` es una librería abierta de Python que permite llevar a cabo manipulación y exploración de datos de forma sencilla. Sus estructuras básicas son llamadas `Series` y `DataFrame`, y nos permiten almacenar, limpiar y analizar datos."
   ]
  },
  {
   "cell_type": "markdown",
   "metadata": {},
   "source": [
    "Te recomendamos importar la libería `pandas` utilizando el nombre `pd` (su alias más frecuentemente usado), como se muestra a continuación."
   ]
  },
  {
   "cell_type": "code",
   "execution_count": null,
   "metadata": {},
   "outputs": [],
   "source": [
    "import pandas as pd"
   ]
  },
  {
   "cell_type": "markdown",
   "metadata": {},
   "source": [
    "### 2.1. Objeto `Series`\n",
    "Un `Series` es un objeto unidimensional similar a una columna de una matriz, en el cual podemos almacenar datos. Un `Series` esta compuesto por índices y datos almacenados.\n",
    "\n",
    "| Índice | Datos |\n",
    "|:-:|:-:|\n",
    "| 1      | \"A\"   |\n",
    "| 2      | \"B\"   |\n",
    "| 3      | \"C\"   |\n",
    "| 4      | \"D\"   |\n",
    "| 5      | \"E\"   |"
   ]
  },
  {
   "cell_type": "markdown",
   "metadata": {},
   "source": [
    "#### Declaración\n",
    "Podemos declarar un `Series` a partir de diferentes estructuras de datos. A continuación, vemos un ejemplo de declaración a partir de una lista:"
   ]
  },
  {
   "cell_type": "code",
   "execution_count": null,
   "metadata": {
    "scrolled": true
   },
   "outputs": [],
   "source": [
    "serie = pd.Series(['A','B','C','D','E'])\n",
    "\n",
    "serie"
   ]
  },
  {
   "cell_type": "markdown",
   "metadata": {},
   "source": [
    "También podemos usar diccionarios para declarar `Series`, a continuación vemos un ejemplo de cómo hacerlo:"
   ]
  },
  {
   "cell_type": "code",
   "execution_count": null,
   "metadata": {},
   "outputs": [],
   "source": [
    "serie = pd.Series({\"Colombia\":\"Bogotá\", \"Argentina\": \"Buenos Aires\", \"Peru\": \"Lima\", \"Mexico\": \"Ciudad de Mexico\"})\n",
    "\n",
    "serie"
   ]
  },
  {
   "cell_type": "markdown",
   "metadata": {},
   "source": [
    "Finalmente, veamos cómo darle valor a los índices y nombrar el `Series`:"
   ]
  },
  {
   "cell_type": "code",
   "execution_count": null,
   "metadata": {
    "scrolled": true
   },
   "outputs": [],
   "source": [
    "serie = pd.Series(['A','B','C','D','E'], index = [10,20,30,40,50], name = \"Mi_serie\")\n",
    "\n",
    "serie"
   ]
  },
  {
   "cell_type": "markdown",
   "metadata": {},
   "source": [
    "#### Consulta\n",
    "\n",
    "Para acceder a un elemento de un `Series` podemos hacer uso de su posición o del valor de su índice, utilizando los atributos `iloc` o `loc`, respectivamente. A continuación, veremos un ejemplo de cómo acceder al segundo elemento según su posición."
   ]
  },
  {
   "cell_type": "code",
   "execution_count": null,
   "metadata": {},
   "outputs": [],
   "source": [
    "elem_2 = serie.iloc[1]\n",
    "elem_2"
   ]
  },
  {
   "cell_type": "markdown",
   "metadata": {},
   "source": [
    "También veremos un ejemplo de cómo acceder al segundo elemento según su índice."
   ]
  },
  {
   "cell_type": "code",
   "execution_count": null,
   "metadata": {},
   "outputs": [],
   "source": [
    "elem_2 = serie.loc[20]\n",
    "elem_2"
   ]
  },
  {
   "cell_type": "markdown",
   "metadata": {},
   "source": [
    "#### Rebanado\n",
    "\n",
    "De manera similar a cómo accedimos a un elemento, también podemos acceder a una porción de un `Series` utilizando los atributos `iloc` y `loc`, y la sintaxis que ya hemos aprendido anteriormente para rebanar. Veremos cómo obtener los primeros dos elementos del `Series` `serie` usando un rebanado por posición:"
   ]
  },
  {
   "cell_type": "code",
   "execution_count": null,
   "metadata": {},
   "outputs": [],
   "source": [
    "parte_serie = serie.iloc[0:2]\n",
    "\n",
    "parte_serie"
   ]
  },
  {
   "cell_type": "markdown",
   "metadata": {},
   "source": [
    "### 2.2. Objeto `DataFrame`\n",
    "\n",
    "Un `DataFrame` es una estructura de datos mutable de dos dimensiones: filas y columnas. Usualmente utilizamos un `DataFrame` para registrar observaciones de variables o características. A cada observación le corresponde una fila y a cada característica una columna.\n",
    "\n",
    "Esta convención no es exclusiva de Python, generalmente los programas para el análisis de datos se manejan de la misma manera.\n",
    "\n",
    "Podemos ver en la siguiente tabla un ejemplo de como ordenamos observaciones en una tabla o `DataFrame`\n",
    "\n",
    "|Índice| <center>Nombre</center>    | <center>Sexo</center>      | Estatura (metros) |\n",
    "|---|:-----------:|-----------|:-------------------:|\n",
    "| 0 | Alejandro | Masculino | 1.70              |\n",
    "| 1 | Esteban   | Masculino | 1.75              |\n",
    "| 2 | Manuela   | Femenino  | 1.69              |\n",
    "| 3 | Diego     | Masculino | 1.60              |\n",
    "| 4 | Alejandra | Femenino  | 1.65              |\n",
    "| 5 | Paula     | Femenino  | 1.55              |"
   ]
  },
  {
   "cell_type": "markdown",
   "metadata": {},
   "source": [
    "#### Declaración\n",
    "Podemos declarar un `DataFrame` a partir de diferentes estructuras de datos. A continuación, vemos un ejemplo de declaración a partir de una listas:"
   ]
  },
  {
   "cell_type": "code",
   "execution_count": null,
   "metadata": {
    "scrolled": true
   },
   "outputs": [],
   "source": [
    "l1 = [\"Jorge\", 28, \"Bogotá\"]\n",
    "l2 = [\"Laura\", 37, \"Lima\"]\n",
    "\n",
    "df = pd.DataFrame([l1,l2], index = [\"Persona 1\", \"Persona 2\"], columns = [\"Nombre\", \"Edad\", \"Ciudad Residencia\"])\n",
    "\n",
    "df"
   ]
  },
  {
   "cell_type": "markdown",
   "metadata": {},
   "source": [
    "También podemos declarar un `DataFrame` a partir de múltiples `Series`."
   ]
  },
  {
   "cell_type": "code",
   "execution_count": null,
   "metadata": {
    "scrolled": true
   },
   "outputs": [],
   "source": [
    "s1 = pd.Series({\"Pais\":\"Colombia\", \"Capital\": \"Bogotá\"})\n",
    "s2 = pd.Series({\"Pais\": \"Argentina\", \"Capital\": \"Buenos Aires\"})\n",
    "s3 = pd.Series({\"Pais\": \"Peru\", \"Capital\": \"Lima\"})\n",
    "\n",
    "df = pd.DataFrame([s1,s2, s3], index = [\"Pais 1\", \"Pais 2\", \"Pais 3\"])\n",
    "\n",
    "df"
   ]
  },
  {
   "cell_type": "markdown",
   "metadata": {},
   "source": [
    "#### Consulta\n",
    "\n",
    "De manera similar al filtrado por posiciones de un `Series`, para acceder a uno o más valores dentro de un `DataFrame`, podemos hacer uso de su posición, del nombre de su índice o del nombre de su columna.\n",
    "\n",
    "Los atributos `loc` y `iloc` son estructuras iterables que nos permiten filtrar filas y columnas de manera simultánea.\n",
    "\n",
    "Por ejemplo, podemos utilizar los objetos `filas` y `columnas` para indicar las posiciones deseadas, como se muestra a continuación:\n",
    "\n",
    "```python\n",
    "df.iloc[filas, columnas]\n",
    "```\n",
    "\n",
    "Si queremos seleccionar las primeras $n$ filas y las columnas de la $m$ en adelante, podemos hacerlo de la siguiente manera:\n",
    "\n",
    "```python\n",
    "df.iloc[ :n, m: ]\n",
    "```\n",
    "\n",
    "A continuación accedemos a los valores de la columna llamada `\"Pais\"`."
   ]
  },
  {
   "cell_type": "code",
   "execution_count": null,
   "metadata": {},
   "outputs": [],
   "source": [
    "paises = df[\"Pais\"]\n",
    "\n",
    "paises"
   ]
  },
  {
   "cell_type": "markdown",
   "metadata": {},
   "source": [
    "Veamos ahora como acceder a los valores de una fila utilizando su posición."
   ]
  },
  {
   "cell_type": "code",
   "execution_count": null,
   "metadata": {
    "scrolled": true
   },
   "outputs": [],
   "source": [
    "primer_pais = df.iloc[0]\n",
    "\n",
    "primer_pais"
   ]
  },
  {
   "cell_type": "markdown",
   "metadata": {},
   "source": [
    "También, podemos acceder a esta misma información utilizando el nombre del índice de la fila consultada."
   ]
  },
  {
   "cell_type": "code",
   "execution_count": null,
   "metadata": {},
   "outputs": [],
   "source": [
    "primer_pais = df.loc[\"Pais 1\"]\n",
    "\n",
    "primer_pais"
   ]
  },
  {
   "cell_type": "markdown",
   "metadata": {},
   "source": [
    "Finalmente, accedemos a un elemento en específico utlizando el nombre de su índice y su columna."
   ]
  },
  {
   "cell_type": "code",
   "execution_count": null,
   "metadata": {
    "scrolled": true
   },
   "outputs": [],
   "source": [
    "capital_pais_1 = df.loc[\"Pais 1\", \"Capital\"]\n",
    "\n",
    "capital_pais_1"
   ]
  },
  {
   "cell_type": "markdown",
   "metadata": {},
   "source": [
    "#### Rebanado\n",
    "\n",
    "De manera similar a cómo accedimos a un elemento, también podemos acceder a una porción de un `DataFrame` utilizando los atributos `iloc` y `loc`, y la sintaxis que ya hemos aprendido anteriormente para rebanar. Veremos cómo obtener las primeras dos filas del `DataFrame` `df` usando un rebanado por posición:"
   ]
  },
  {
   "cell_type": "code",
   "execution_count": null,
   "metadata": {
    "scrolled": false
   },
   "outputs": [],
   "source": [
    "filas_df = df.iloc[0:2]\n",
    "\n",
    "filas_df"
   ]
  },
  {
   "cell_type": "markdown",
   "metadata": {},
   "source": [
    "A continuación mostramos como obtener la segunda columna del `DataFrame`."
   ]
  },
  {
   "cell_type": "code",
   "execution_count": null,
   "metadata": {
    "scrolled": true
   },
   "outputs": [],
   "source": [
    "columnas_df = df.iloc[:,1:2]\n",
    "\n",
    "columnas_df"
   ]
  },
  {
   "cell_type": "markdown",
   "metadata": {},
   "source": [
    "Además, veamos como obtener la porción que contiene únicamente la capital de los dos primero países."
   ]
  },
  {
   "cell_type": "code",
   "execution_count": null,
   "metadata": {},
   "outputs": [],
   "source": [
    "porcion_df = df.iloc[0:2, 1:2]\n",
    "\n",
    "porcion_df"
   ]
  },
  {
   "cell_type": "markdown",
   "metadata": {},
   "source": [
    "Si las posiciones que queremos rebanar no son consecutivas, `pandas` nos permite indicarlas en una lista.\n",
    "A continuación, vemos una manera de mostrar únicamente la primera y última fila de un `DataFrame`."
   ]
  },
  {
   "cell_type": "code",
   "execution_count": null,
   "metadata": {},
   "outputs": [],
   "source": [
    "df.iloc[ [0, df.shape[0] - 1], : ]"
   ]
  },
  {
   "cell_type": "markdown",
   "metadata": {},
   "source": [
    "### 2.3. Declaración de un `Series` o un `DataFrame` desde un archivo\n",
    "Un `Series` y un `DataFrame` también pueden ser declarados a partir de archivos externos, tales como archivos de Excel (.xlsx), CSV (.csv), JSON (.json) y muchos más.\n",
    "Para declarar un `DataFrame` a partir de un archivo de Excel usamos la siguiente sintaxis:"
   ]
  },
  {
   "cell_type": "code",
   "execution_count": null,
   "metadata": {
    "scrolled": true
   },
   "outputs": [],
   "source": [
    "df = pd.read_excel(\"Archivos/ArchivoSoporteS3TU1.xlsx\")\n",
    "\n",
    "df"
   ]
  },
  {
   "cell_type": "markdown",
   "metadata": {},
   "source": [
    "La forma en la que se leen otros tipos de archivos es completamente análoga a esta. Por ejemplo:\n",
    "\n",
    "* CSV: `pd.read_csv(\"Nombre archivo\")`\n",
    "* JSON: `pd.read_json(\"Nombre archivo\")`"
   ]
  },
  {
   "cell_type": "markdown",
   "metadata": {},
   "source": [
    "### 2.4. Exploración de los objetos `Series` y `DataFrame`\n",
    "\n",
    "A continuación, implementamos algunos de los métodos más utilizados para explorar `Series` y `DataFrame` utilizando la librería `pandas`. Recomendamos que revises la documentación oficial de `pandas` para expandir el conocimiento acerca de otros métodos."
   ]
  },
  {
   "cell_type": "markdown",
   "metadata": {},
   "source": [
    "* `head`:\n",
    "muestra las primeras n filas."
   ]
  },
  {
   "cell_type": "code",
   "execution_count": null,
   "metadata": {},
   "outputs": [],
   "source": [
    "df.head(5)"
   ]
  },
  {
   "cell_type": "markdown",
   "metadata": {},
   "source": [
    "* `tail`:\n",
    "muestra las últimas n filas."
   ]
  },
  {
   "cell_type": "code",
   "execution_count": null,
   "metadata": {},
   "outputs": [],
   "source": [
    "df.tail(5)"
   ]
  },
  {
   "cell_type": "markdown",
   "metadata": {},
   "source": [
    "* `columns`: muestra los nombres de las columnas del `DataFrame`."
   ]
  },
  {
   "cell_type": "code",
   "execution_count": null,
   "metadata": {},
   "outputs": [],
   "source": [
    "df.columns"
   ]
  },
  {
   "cell_type": "markdown",
   "metadata": {},
   "source": [
    "* `info`: muestra la información general del `DataFrame`."
   ]
  },
  {
   "cell_type": "code",
   "execution_count": null,
   "metadata": {},
   "outputs": [],
   "source": [
    "df.info()"
   ]
  },
  {
   "cell_type": "markdown",
   "metadata": {},
   "source": [
    "* `describe`: muestra medidas de tendencia de las columnas numéricas del `DataFrame`."
   ]
  },
  {
   "cell_type": "code",
   "execution_count": null,
   "metadata": {},
   "outputs": [],
   "source": [
    "df.describe()"
   ]
  },
  {
   "cell_type": "markdown",
   "metadata": {},
   "source": [
    "* `dtypes`: muestra el tipo de dato de cada columna del `DataFrame`."
   ]
  },
  {
   "cell_type": "code",
   "execution_count": null,
   "metadata": {},
   "outputs": [],
   "source": [
    "df.dtypes"
   ]
  },
  {
   "cell_type": "markdown",
   "metadata": {},
   "source": [
    "* `unique`: muestra los datos únicos de una columna del `DataFrame`."
   ]
  },
  {
   "cell_type": "code",
   "execution_count": null,
   "metadata": {
    "scrolled": true
   },
   "outputs": [],
   "source": [
    "df[\"Ciudad Residencia\"].unique()"
   ]
  },
  {
   "cell_type": "markdown",
   "metadata": {},
   "source": [
    "* `max`: muestra el valor máximo de una columna de un `DataFrame`."
   ]
  },
  {
   "cell_type": "code",
   "execution_count": null,
   "metadata": {},
   "outputs": [],
   "source": [
    "df[\"Edad\"].max()"
   ]
  },
  {
   "cell_type": "markdown",
   "metadata": {},
   "source": [
    "* `min`: muestra el valor minimo de una columna de un `DataFrame`."
   ]
  },
  {
   "cell_type": "code",
   "execution_count": null,
   "metadata": {},
   "outputs": [],
   "source": [
    "df[\"Edad\"].min()"
   ]
  },
  {
   "cell_type": "markdown",
   "metadata": {},
   "source": [
    "* `sum`: muestra la suma de todos los valores de una columna en específico."
   ]
  },
  {
   "cell_type": "code",
   "execution_count": null,
   "metadata": {},
   "outputs": [],
   "source": [
    "df[\"Ingresos\"].sum()"
   ]
  },
  {
   "cell_type": "markdown",
   "metadata": {},
   "source": [
    "* `mean`: muestra el promedio de todos los valores de una columna en específico."
   ]
  },
  {
   "cell_type": "code",
   "execution_count": null,
   "metadata": {
    "scrolled": true
   },
   "outputs": [],
   "source": [
    "df[\"Ingresos\"].mean()"
   ]
  },
  {
   "cell_type": "markdown",
   "metadata": {},
   "source": [
    "### 2.5. Manipulación de `Series` y `DataFrame`\n",
    "\n",
    "A continuación, implementaremos algunos de los métodos más utilizados para manipular `Series` y `DataFrame` utilizando la librería `pandas`. Recomendamos que revises la documentación oficial de `pandas` para expandir el conocimiento acerca de otros métodos. A continuación crearemos un `DataFrame` que contiene información personal de tres personas:"
   ]
  },
  {
   "cell_type": "code",
   "execution_count": null,
   "metadata": {
    "scrolled": true
   },
   "outputs": [],
   "source": [
    "persona_1 = [\"Jorge\",\"Suaréz\", 28, \"Bogotá\"]\n",
    "persona_2 = [\"Laura\",\"Poveda\", 37, \"Lima\"]\n",
    "persona_3 = [\"Pablo\", \"Goméz\", 30, \"Lima\"]\n",
    "df2 = pd.DataFrame([persona_1, persona_2, persona_3], columns=[\"Nombre\", \"Apellido\", \"Edad\", \"Ciudad\"])\n",
    "\n",
    "df2"
   ]
  },
  {
   "cell_type": "markdown",
   "metadata": {},
   "source": [
    "* `set_index`: permite establecer una columna como índice de un `DataFrame`."
   ]
  },
  {
   "cell_type": "code",
   "execution_count": null,
   "metadata": {},
   "outputs": [],
   "source": [
    "df2.set_index(\"Nombre\")"
   ]
  },
  {
   "cell_type": "markdown",
   "metadata": {},
   "source": [
    "* `drop`: permite eliminar filas o columnas de un `DataFrame`.\n",
    "\n",
    "Eliminar filas por posición:"
   ]
  },
  {
   "cell_type": "code",
   "execution_count": null,
   "metadata": {
    "scrolled": true
   },
   "outputs": [],
   "source": [
    "df2.drop([0,2])"
   ]
  },
  {
   "cell_type": "markdown",
   "metadata": {},
   "source": [
    "Eliminar columnas por nombre:"
   ]
  },
  {
   "cell_type": "code",
   "execution_count": null,
   "metadata": {},
   "outputs": [],
   "source": [
    "df2.drop(columns = [\"Ciudad\"])"
   ]
  },
  {
   "cell_type": "markdown",
   "metadata": {},
   "source": [
    "* `rename`: permite renombrar elementos de un `DataFrame`."
   ]
  },
  {
   "cell_type": "code",
   "execution_count": null,
   "metadata": {
    "scrolled": false
   },
   "outputs": [],
   "source": [
    "df2.rename(columns = {\"Ciudad\": \"Residencia\"})"
   ]
  },
  {
   "cell_type": "markdown",
   "metadata": {},
   "source": [
    "## Créditos\n",
    "\n",
    "__Autor(es)__: Camilo Falla Moreno, Juan David Reyes, Diego Alejandro Cely Gomez\n",
    " \n",
    "__Fecha última actualización__: 06/08/2021"
   ]
  }
 ],
 "metadata": {
  "kernelspec": {
   "display_name": "Python 3",
   "language": "python",
   "name": "python3"
  },
  "language_info": {
   "codemirror_mode": {
    "name": "ipython",
    "version": 3
   },
   "file_extension": ".py",
   "mimetype": "text/x-python",
   "name": "python",
   "nbconvert_exporter": "python",
   "pygments_lexer": "ipython3",
   "version": "3.8.8"
  }
 },
 "nbformat": 4,
 "nbformat_minor": 2
}
