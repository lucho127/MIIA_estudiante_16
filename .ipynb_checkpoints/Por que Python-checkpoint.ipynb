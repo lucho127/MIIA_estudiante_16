{
 "cells": [
  {
   "cell_type": "markdown",
   "metadata": {},
   "source": [
    "<img src=\"Archivos/miia.jpg\" width=650x>\n",
    "\n",
    "# ¿Por qué Python?"
   ]
  },
  {
   "cell_type": "markdown",
   "metadata": {},
   "source": [
    "Python es un lenguaje de propósito general y de alto nivel, lo cual lo hace muy versátil y fácil de usar sin mayor experiencia previa. Esto, sumado a la disponibilidad de paquetes especializados en análisis de datos, hacen de Python una gran opción para abordar la programación en Analytics. Jupyter, por su parte, es una interfaz para usar Python desde cualquier navegador web, la cual permite explorar datos fácilmente y generar documentos y aplicaciones interactivas.\n",
    "\n",
    "## Python – Un lenguaje que ofrece versatilidad y fácil usabilidad\n",
    "\n",
    "Son muchas las discusiones sobre cuál es la herramienta más adecuada para análisis de datos, desde productos como PowerBI o Tableau hasta lenguajes de programación como Python o R. La mejor respuesta, por supuesto, es “depende”, porque, como hemos visto, son muchos los roles que se dan en el contexto de los datos. En algunos casos, las herramientas comerciales que no requieren programación por parte del usuario pueden ser suficientes. Sin embargo, cualquier profesional en análisis de datos debe tener un dominio básico de un lenguaje de programación de cabecera, y allí son Python y R quienes marcan la pauta. En esta lectura veremos por qué el curso se enfoca en Python, resaltando algunas de sus ventajas en versatilidad y usabilidad.\n",
    "\n",
    "Cuando se habla de programación en el contexto de análisis de datos, casi inmediatamente se piensa en Python y R (y en algunos casos, quizá más especializados en programación científica, se incluye también Julia). La disyuntiva entre casarse con Python o R es difícil de resolver, ya que depende mucho del usuario y del propósito, y realmente no es tanto una disyuntiva porque bien podrían usarse ambos de forma complementaria. En este curso, trabajaremos en Python por una serie de razones que veremos a continuación, si bien todos los aprendizajes (salvo la sintaxis) deberían poder extenderse a otros lenguajes sin problema.\n",
    "\n",
    "### Versatilidad\n",
    "\n",
    "Se ha vuelto popular una frase que dice que “Python es el segundo mejor lenguaje en casi cualquier área”. Por supuesto, no se trata de una afirmación fáctica comprobable, sino de una forma de llamar la atención sobre su característica de ser un lenguaje de propósito general. Cuando se compara con R, algunas de las críticas son precisamente que R es un lenguaje concebido para computación estadística y que esto lo hace limitado en otros contextos, además de hacerlo menos competitivo en términos de desempeño computacional (por supuesto, al tratarse de software libre, y debido a su popularización, R y sus paquetes han evolucionado para contrarrestar dichas limitaciones).\n",
    "\n",
    "Por su lado, Python se origina como un lenguaje de propósito general y es ampliamente usado por fuera del área de análisis de datos (ej., en desarrollo web, bases de datos, aplicaciones, computación científica, educación). También, por tratarse de software libre y debido a su popularidad, se han desarrollado muchos paquetes que permiten usarlo en contextos especializados. En el área de análisis de datos, uno de los desarrollos más importantes es el paquete Pandas, que permite usar estructuras de datos similares a las de R, además de paquetes como Seaborn, que facilita el análisis de datos visual, y varios paquetes especializados en modelos estadísticos y de machine learning. El uso combinado de estos paquetes permite lograr en Python las capacidades a nivel estadístico y de análisis de datos que se pueden tener en R, con la ventaja de tener mayor aplicabilidad por fuera del mundo del análisis de datos.\n",
    "\n",
    "Recordemos que el análisis de datos es un área altamente interdisciplinar y transversal a muchos sectores y divisiones dentro de las organizaciones. Por esto, no es extraño que los desarrollos en análisis de datos deban interactuar con otros módulos (ej., aplicaciones web, algoritmos operativos, etc.), en donde un lenguaje como Python se vuelve muy conveniente.\n",
    "\n",
    "### Usabilidad\n",
    "\n",
    "Otra frase popular dice que “Python, bien escrito, es casi como escribir inglés”, y de esto podremos ver ejemplos en este curso. Por esa razón, es muy común ver cursos de iniciación a la programación en Python, precisamente porque la curva de aprendizaje se hace muy llevadera para personas sin experiencia previa. Una de las premisas detrás de Python fue simplificar el lenguaje, evitando formalismos requeridos en otros lenguajes, como es el caso de la definición de tipos en las variables. Esta simplificación ha contribuido a que el lenguaje se haya popularizado entre profesionales que se pueden valer de la programación sin alto nivel de experticia (o sin tener que dedicarle demasiado tiempo a los aspectos computacionales), y que por tanto existan numerosos paquetes, cada vez más sofisticados, que apoyan el desarrollo de soluciones en Python en múltiples industrias. Por supuesto, estas simplificaciones tienen un costo en términos de desempeño computacional. La ventaja es que al momento de explorar datos o prototipar soluciones, estas limitaciones suelen ser menores, y se pueden corregir al momento de desplegar soluciones, ya sea optimizando el código de Python o transfiriendo estos prototipos a otros lenguajes (habiendo aprovechado Python para desarrollo rápido de prototipos en la etapa crítica de evaluar posibles soluciones mediante ensayo y error).                  \n",
    "                                                   \n",
    "En los cursos que se enfocan en modelos estadísticos es muy común utilizar R, porque realmente se usa bastante en la práctica. En el fondo, si alguien es muy bueno en Python o R, ese es el lenguaje que debe usar, porque siempre podrá lograr cualquier cosa que se logre en el otro lenguaje. Mi posición personal es que elijo el diseño centrado en el usuario que encuentro en Python. Si yo quiero que mi equipo de desarrollo haga cosas geniales, tiene sentido que me preocupe por cómo es la experiencia del programador. La simplicidad, elegancia y semántica de la sintaxis de Python hacen que la experiencia de programar sea mucho más amena. Aunque parezca un criterio estético, realmente no es menor; mientras no esté sacrificando funcionalidad y desempeño, pensar en el diseño de un producto y la experiencia del usuario es parte del trabajo. El profesional en analítica de datos debe diseñar herramientas de apoyo a la decisión, con interfaces de usuario simples y efectivas, así que ser sensible a la usabilidad es una competencia valiosa."
   ]
  },
  {
   "cell_type": "markdown",
   "metadata": {},
   "source": [
    "## El ecosistema Python\n",
    "\n",
    "Más que pensar en Python, nuestra apuesta es por el software abierto, y aquí caben R, Python y Julia. Una razón importante para elegir un lenguaje Open-Source es que no nos ata a un producto comercial, y tiene amplio soporte de la comunidad: por una parte, constantemente se están desarrollando nuevos módulos y paquetes útiles en diferentes contextos, o generando actualizaciones de paquetes existentes; por otra parte, las comunidades activamente responden inquietudes sobre el uso del software en Internet, por lo cual es relativamente fácil encontrar soluciones a problemas que se puede encontrar un principiante, e incluso para problemas sorprendentemente especializados.\n",
    "\n",
    "Uno de los retos que se encuentran los nuevos usuarios de Python es la variedad de herramientas disponibles, principalmente, los múltiples entornos desde los que se puede trabajar en Python, así como la variedad de paquetes y herramientas que existen alrededor de Python. La siguiente figura muestra un panorama general de ese ecosistema."
   ]
  },
  {
   "cell_type": "markdown",
   "metadata": {},
   "source": [
    "<img src=\"Archivos/ecoPy.png\" width=600x>"
   ]
  },
  {
   "cell_type": "markdown",
   "metadata": {},
   "source": [
    "* En el centro encontramos a Python, que es el lenguaje y además lo que se conoce como el *kernel*: el software que interpreta el lenguaje y lo ejecuta en la máquina.\n",
    "* En la parte superior, se listan algunos entornos desde los cuales se puede usar o desarrollar código Python. \n",
    "    * Típicamente, personas de perfil gerencial únicamente utilizan productos terminados, como aplicaciones web (ej. basadas en Django) o tableros de control desarrollados en los paquetes Dash o Panel, entre otros.\n",
    "    * Productos como Anaconda le facilitan al usuario su inmersión en Python. Proveen entornos como Spyder, que permite desarrollar *scripts* de código en archivos con extensión \".py\" con funcionalidades para desarrollar y depurar código como cualquier IDE (interactive development environment) del mercado. Adicionalmente, Anaconda permite acceder fácilmente a Jupyter, que es una interfaz para desarrollar código Python en línea (en un navegador web) a través de archivos interactivos (Notebooks) con extensión \".ipynb\", que combinan texto, imágenes, ecuaciones, etc., con desarrollo de código que se puede ejecutar directamente en el documento.\n",
    "    * Los programadores más puristas suelen preferir entornos de desarrollo más minimalistas, pues por lo general no quieren agregar un costo computacional al usar interfaces gráficas pesadas, sino que prefieren algo más cercano a un bloc de notas, pero con funcionalidades especiales para desarrollar y depurar código. Ejemplos de esto son Sublime, Atom o PyCharm, y en el lado aun más purista, se suele utilizar Vim de la mano con el uso de la Consola o Terminal del computador., y en qué contexto es adecuado usar cada uno?\n",
    "* En la parte inferior, se listan algunos paquetes comunes que se instalan \"sobre Python\" para extender sus posibilidades. Python en si mismo es relativamente simple y permite programación a nivel general. Los paquetes son los que lo enriquecen con funciones especializadas en matemáticas, gráficas, optimización, machine learning, entre muchos otros campos.\n",
    "\n",
    "### ¿Por qué Jupyter?\n",
    "\n",
    "En este curso, utilizaremos una interfaz conocida como Jupyter. Una de las principales ventajas de Jupyter es que permite correr código de Python de forma interactiva en un navegador, y combinarlo con texto enriquecido y contenido multimedia. De esta forma, es posible generar reportes con imágenes, ecuaciones y código de Python ejecutable por bloques con visualización inmediata de resultados. \n",
    "\n",
    "Estas características hacen de Jupyter una opción muy atractiva en el contexto de análisis de datos por ser un área en la que, más que programar rutinas pensadas para correrse completas, se pasa buena parte del tiempo explorando y manipulando datos iterativamente, lo cual resulta muy práctico en la interfaz interactiva de Jupyter. \n",
    "\n",
    "Como ventajas adicionales, encontramos: primero, que existen plataformas como Anaconda, Google, entre otras que permiten trabajar en archivos de Jupyter sin complicaciones de instalación (ya sea como aplicaciones de escritorio o servicios web); segundo, Jupyter permite correr código en otros lenguajes además de Python; de hecho, su nombre proviene de las palabras Julia, Python y R (los lenguajes base que soporta).\n",
    "\n",
    "En síntesis, Python es una opción muy recomendable para usuarios con poca experiencia en programación, y, aunque parezca contradictorio, para usuarios con altas ambiciones o bagaje en programación que quieran ir más allá del análisis estadístico típico de R (ej. desarrollo web, aplicaciones, manejo de varios paradigmas de programación). Por otro lado, Jupyter es una interfaz altamente versátil por poderse correr desde cualquier navegador web y se presta muy bien para las tareas de analítica de datos por su interactividad y facilidad para generar reportes que comuniquen los resultados, más allá del resultado en código.\n"
   ]
  },
  {
   "cell_type": "code",
   "execution_count": null,
   "metadata": {},
   "outputs": [],
   "source": []
  }
 ],
 "metadata": {
  "kernelspec": {
   "display_name": "Python 3",
   "language": "python",
   "name": "python3"
  },
  "language_info": {
   "codemirror_mode": {
    "name": "ipython",
    "version": 3
   },
   "file_extension": ".py",
   "mimetype": "text/x-python",
   "name": "python",
   "nbconvert_exporter": "python",
   "pygments_lexer": "ipython3",
   "version": "3.8.5"
  }
 },
 "nbformat": 4,
 "nbformat_minor": 4
}
