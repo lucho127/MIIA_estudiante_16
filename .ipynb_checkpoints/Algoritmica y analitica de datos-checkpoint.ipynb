{
 "cells": [
  {
   "cell_type": "markdown",
   "metadata": {},
   "source": [
    "<img src=\"Archivos/miia.jpg\" width=650x>\n",
    "\n",
    "# ¿Qué tiene que ver la algorítmica con la analítica de datos?"
   ]
  },
  {
   "cell_type": "markdown",
   "metadata": {},
   "source": [
    "### La algorítmica y la analítica de datos\n",
    "\n",
    "La analítica de datos es un área que, de forma muy gruesa, se puede resumir en la siguiente misión: hay que identificar una pregunta de negocio y desarrollar una herramienta analítica que provea insumos para responderla a partir de los datos, de una forma relevante para la organización. Sin embargo, no es tan transparente qué es una pregunta de negocio o una herramienta analítica, ni cómo llegar de una a la otra. En ese sentido los retos son:\n",
    "\n",
    "1. Que formular una pregunta de negocio no es algo trivial: toma demasiadas horas de interactuar con stakeholders, deseablemente mediante metodologías estructuradas que ayuden a construir modelos mentales compartidos del problema (para evitar enfrascarse en discusiones que no contribuyan específicamente a construir la pregunta). Luego, durante el desarrollo del proyecto hay que validar y re-negociar los acuerdos con estas personas según los hallazgos y circunstancias que van apareciendo. Al final, se debe presentar, en términos que todos entiendan, los resultados obtenidos, y si es el caso, proveer una instrucción sobre cómo usar las herramientas que se hayan desarrollado (si es que el cliente debe usarlas, pues hay casos en los que la herramienta se desarrolla para resolver el problema pero no se pretende que la organización la use directamente).\n",
    "\n",
    "2. Que los datos no están listos para ser usados y su manejo es muy técnico: puede que los datos no existan y hay que diseñar la manera de obtenerlos, para luego implementar el proceso de recolección, verificar que estén bien, buscar formas seguras, eficientes y escalables para almacenarlos, de manera que se puedan usar fácilmente a lo largo del tiempo en aquellas dependencias donde se necesite.\n",
    "\n",
    "3. Que existen muchos métodos y técnicas de análisis para diferentes condiciones y propósitos: existen formas de modelar problemas sin utilizar datos, otras que combinan modelos y datos, y otras que se fundamentan primordialmente en los datos. Entra estas últimas, hay técnicas que se concentran en entender y dar sentido a la información que está directamente en los datos (modelos descriptivos); otras buscan entender relaciones entre variables o estimar posibles comportamientos futuros a partir de los datos, tratando de ir más allá de la información explícita allí contenida (modelos predictivos); y finalmente, existen técnicas que buscan utilizar esos datos para encontrar y evaluar alternativas de solución o decisión para responder de manera adecuada ante una situación dada. Dentro de cada una de estas existen técnicas, cada una orientada a un cierto tipo de datos (que cumplan ciertos supuestos), un cierto tipo de preguntas, o un cierto tipo de contexto. La elección de qué tipo de modelo usar responde a la combinación de dos elementos: un entendimiento muy profundo de lo que se busca con la pregunta de negocio, y un conocimiento del funcionamiento, requerimientos y supuestos de los modelos que se podrían llegar a utilizar.\n",
    "\n",
    "4. Que solucionar el problema va más allá de reportar el resultado de un modelo: con frecuencia, el interés de los tomadores de decisiones no es un resultado numérico para el momento, sino un proceso o sistema que les permita: (i) mejorar su entendimiento de la organización y los procesos de toma de decisiones; y (ii) tener herramientas de navegación para abordar problemas de decisión no solo para los datos de hoy, sino a lo largo del tiempo, lo cual implica un tipo de solución diferente y unos retos frente al mantenimiento de la misma. Normalmente, la implementación de una unidad de analítica de datos en una organización implica capacitación del personal y transformaciones de los procesos y la cultura, sumados a la instalación y mantenimiento de la plataforma tecnológica necesaria.\n",
    "\n",
    "Así pues, aunque un proyecto de analítica de datos no es lo mismo que un proyecto de software, sí hay un componente común de diseño que es muy importante: cómo hacer que la solución desarrollada (cuya implementación última es código en ambos casos) responda a las necesidades del cliente. Por esto es que el diseño y el pensamiento algorítmico son el pegamento de otros componentes importantes en la solución analítica: la pregunta es cómo concebir la articulación de los múltiples procesos involucrados de forma que se cumplan adecuadamente unos requerimientos. Ese, como hemos visto, es un buen ejemplo de la diferencia entre la programación de alto nivel (resolver problemas), que toma una importancia capital, antes de escribir la primera línea de código."
   ]
  },
  {
   "cell_type": "markdown",
   "metadata": {},
   "source": [
    "### Diagrama de flujo"
   ]
  },
  {
   "cell_type": "markdown",
   "metadata": {},
   "source": [
    "Como hemos venido discutiendo, la programación es más que simplemente escribir instrucciones puntuales para el computador. La mejor parte de la programación tiene que ver con el diseño de procedimientos computacionales. En el caso de la analítica de datos, el procedimiento general normalmente obedece a los pasos que se plantean en la guía de estudio para la certificación CAP. Sin embargo, en cada proyecto, el analista debe diseñar una implementación específica de ese procedimiento. En algunos casos, el trabajo más extensivo estará en el procesamiento de los datos; en otros casos, puede ser la selección de algún tipo de modelo la que toma mayor importancia; en otros, será el entrenamiento específico de un modelo, o la forma de visualizar cierta información. En cualquiera de los casos, el analista será quien orquesta el procesos de solución al diseñar el procedimiento general, y cada uno de los pasos que lo componen. El uso de diagramas de flujo o pseudo-código constituye una herramienta fundamental para facilitar la labor del analista y del programador.\n",
    "\n",
    "<img src=\"Archivos/anal_diag_flow.png\" width=300x>\n",
    "\n",
    "La anterior figura muestra un ejemplo de un diagrama de flujo que describe un procedimiento que podría darse en un proyecto de analítica de datos. Cada una de las cajas que aparecen allí podrían tener su propio diagrama de flujo, especificando los pasos necesarios para completar la tarea allí descrita. El rol del programador apunta a eso: a orquestar las tareas necesarias para lograr las implementaciones que requiere un proyecto complejo, siendo diseñador de los procesos, y en algunos casos, también quien los implementa en código."
   ]
  },
  {
   "cell_type": "code",
   "execution_count": null,
   "metadata": {},
   "outputs": [],
   "source": []
  }
 ],
 "metadata": {
  "kernelspec": {
   "display_name": "Python 3",
   "language": "python",
   "name": "python3"
  },
  "language_info": {
   "codemirror_mode": {
    "name": "ipython",
    "version": 3
   },
   "file_extension": ".py",
   "mimetype": "text/x-python",
   "name": "python",
   "nbconvert_exporter": "python",
   "pygments_lexer": "ipython3",
   "version": "3.8.5"
  }
 },
 "nbformat": 4,
 "nbformat_minor": 4
}
