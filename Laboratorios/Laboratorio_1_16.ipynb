{
 "cells": [
  {
   "cell_type": "markdown",
   "metadata": {},
   "source": [
    "<img src=\"Archivos/miia.jpg\" width=800x>\n",
    "\n",
    "# Laboratorio 1\n",
    "\n",
    "## Desarrollo de una herramienta analítica usando solo Python\n",
    "\n",
    "Este laboratorio busca evaluar las habilidades relacionadas con la primera parte del curso, correspondiente a las primeras tres semanas. Este enunciado estará disponible desde la semana 2 y deberá entregarse al final de la semana 4 en el enlace correspondiente. Su desarrollo corresponde al 30% de la calificación total del curso.\n",
    "\n",
    "Esta actividad responde directamente al segundo objetivo del curso:\n",
    "* Implementar una herramienta analítica que permita responder una pregunta de negocio para un problema sencillo de analítica de datos, utilizando únicamente algorítmica básica en Python.\n",
    "\n",
    "Al desarrollar este laboratorio pondrás a prueba tus habilidades para: \n",
    "1. Leer datos desde archivos.\n",
    "2. Almacenar datos en  estructuras de Python.\n",
    "3. Crear y llamar funciones correctamente.\n",
    "4. Implementar condicionales diferenciando *if*, *elif* y *else*\n",
    "5. Implementar ciclos diferenciando el propósito de *for* y *while*\n",
    "6. Importar paquetes y utilizar sus funciones.\n",
    "\n",
    "**NOTAS:**\n",
    "- Te recomendamos leer por completo el enunciado del laboratorio antes de comenzar, de forma que tengas claro el propósito completo de la actividad, y puedas desarrollar tu solución apuntando a él desde el comienzo.\n"
   ]
  },
  {
   "cell_type": "markdown",
   "metadata": {},
   "source": [
    "## Contexto: exploración del potencial para asignar becas Uniandes\n",
    "La Universidad de los Andes se ha caracterizado por su compromiso con la generación de impacto en la sociedad a través de diferentes programas de becas. Programas como Quiero Estudiar, o Ser Pilo Paga, entre otros, han sido revolucionarios, al permitir que estudiantes de bajos recursos puedan acceder a una de las universidades privadas más importantes del país.\n",
    "\n",
    "Actualmente, la Universidad quiere evaluar el potencial impacto que tendrían algunos programas de *acción afirmativa* para asignación de becas, con base en información demográfica que ha obtenido a través de encuestas. Se cuenta con información respecto a la edad, género, estado civil, estrato socio-económico, región de proveniencia, desempeño académico y nivel de escolaridad de las personas que han respondido encuestas. Los encargados de diseñar el programa saben que utilizar criterios basados en este tipo de variables es un tema sensible, pero es necesario si se quieren focalizar las oportunidades en poblaciones menos representadas.\n",
    "\n",
    "El objetivo de este laboratorio es crear una herramienta computacional que permita a un tomador de decisiones explorar qué efecto podría tener el uso de diferentes reglas para seleccionar la población que sería beneficiaria de las becas. Puntualmente, se espera que, dadas unas reglas de selección (ej.: pertenecer a cierta región, rango de edad, etc.), la herramienta ofrezca información sobre la población potencialmente beneficiada, de forma que exista un sustento al momento de definir las reglas de selección."
   ]
  },
  {
   "cell_type": "markdown",
   "metadata": {},
   "source": [
    "## 1. Obtención e inspección de archivos\n",
    "\n",
    "Los datos de encuestas fueron obtenidos como parte de un trabajo de campo, y por limitaciones tecnológicas, solo se cuenta con la información en archivos de texto plano. Cada archivo corresponde a una de las variables antes mencionadas y se puede garantizar que todos relacionan a las personas encuestadas en el mismo orden (i.e., la primera línea de todos los archivos corresponde a datos de la primera persona encuestada, la segunda línea a la segunda persona, etc.).\n",
    "\n",
    "Los archivos con los que se cuenta son:\n",
    "* *edades.txt*: un archivo ordenado con las edades de cada persona de la población encuestada \n",
    "* *género.txt*: un archivo ordenado con el género de cada persona de la población encuestada \n",
    "* *estado_civil.txt*: un archivo ordenado con el estado civil de cada persona de la población encuestada \n",
    "* *escolaridad.txt*: un archivo ordenado con el nivel de escolaridad de cada persona de la población encuestada \n",
    "* *estrato.txt*: un archivo ordenado con el estrato socio-económico de cada persona de la población encuestada\n",
    "* *region.txt*: un archivo ordenado con la región de proveniencia de cada persona de la población encuestada"
   ]
  },
  {
   "cell_type": "markdown",
   "metadata": {},
   "source": [
    "**Misión 1**\n",
    "\n",
    "Poner en variables de Python la información que está en los archivos listados arriba.\n",
    "\n",
    "* *Versión base*: escribe línea a línea el código necesario para poner en variables de Python la información de cada uno de los archivos.\n",
    "\n",
    "* *Milla extra*: escribe una función que sea capaz de hacer lo anterior para un archivo y úsala en un ciclo para automatizar la lectura de los diferentes archivos."
   ]
  },
  {
   "cell_type": "code",
   "execution_count": 1,
   "metadata": {},
   "outputs": [
    {
     "data": {
      "text/html": [
       "<div>\n",
       "<style scoped>\n",
       "    .dataframe tbody tr th:only-of-type {\n",
       "        vertical-align: middle;\n",
       "    }\n",
       "\n",
       "    .dataframe tbody tr th {\n",
       "        vertical-align: top;\n",
       "    }\n",
       "\n",
       "    .dataframe thead th {\n",
       "        text-align: right;\n",
       "    }\n",
       "</style>\n",
       "<table border=\"1\" class=\"dataframe\">\n",
       "  <thead>\n",
       "    <tr style=\"text-align: right;\">\n",
       "      <th></th>\n",
       "      <th>Edad</th>\n",
       "      <th>Genero</th>\n",
       "      <th>Estado Civil</th>\n",
       "      <th>Escolaridad</th>\n",
       "      <th>Estrato</th>\n",
       "      <th>Region</th>\n",
       "      <th>Promedio</th>\n",
       "    </tr>\n",
       "  </thead>\n",
       "  <tbody>\n",
       "    <tr>\n",
       "      <th>0</th>\n",
       "      <td>66</td>\n",
       "      <td>masculino</td>\n",
       "      <td>divorciada</td>\n",
       "      <td>Profesional</td>\n",
       "      <td>1</td>\n",
       "      <td>Andina</td>\n",
       "      <td>0.9</td>\n",
       "    </tr>\n",
       "    <tr>\n",
       "      <th>1</th>\n",
       "      <td>24</td>\n",
       "      <td>femenino</td>\n",
       "      <td>divorciada</td>\n",
       "      <td>Secundaria</td>\n",
       "      <td>3</td>\n",
       "      <td>Pacifica</td>\n",
       "      <td>3.2</td>\n",
       "    </tr>\n",
       "    <tr>\n",
       "      <th>2</th>\n",
       "      <td>55</td>\n",
       "      <td>masculino</td>\n",
       "      <td>casada</td>\n",
       "      <td>Secundaria</td>\n",
       "      <td>3</td>\n",
       "      <td>Pacifica</td>\n",
       "      <td>2.1</td>\n",
       "    </tr>\n",
       "    <tr>\n",
       "      <th>3</th>\n",
       "      <td>26</td>\n",
       "      <td>otro</td>\n",
       "      <td>divorciada</td>\n",
       "      <td>Secundaria</td>\n",
       "      <td>2</td>\n",
       "      <td>Orinoquia</td>\n",
       "      <td>2.1</td>\n",
       "    </tr>\n",
       "    <tr>\n",
       "      <th>4</th>\n",
       "      <td>69</td>\n",
       "      <td>no binario</td>\n",
       "      <td>divorciada</td>\n",
       "      <td>Secundaria</td>\n",
       "      <td>3</td>\n",
       "      <td>Caribe</td>\n",
       "      <td>2.0</td>\n",
       "    </tr>\n",
       "    <tr>\n",
       "      <th>...</th>\n",
       "      <td>...</td>\n",
       "      <td>...</td>\n",
       "      <td>...</td>\n",
       "      <td>...</td>\n",
       "      <td>...</td>\n",
       "      <td>...</td>\n",
       "      <td>...</td>\n",
       "    </tr>\n",
       "    <tr>\n",
       "      <th>495</th>\n",
       "      <td>24</td>\n",
       "      <td>femenino</td>\n",
       "      <td>viuda</td>\n",
       "      <td>Secundaria</td>\n",
       "      <td>1</td>\n",
       "      <td>Andina</td>\n",
       "      <td>2.9</td>\n",
       "    </tr>\n",
       "    <tr>\n",
       "      <th>496</th>\n",
       "      <td>50</td>\n",
       "      <td>no binario</td>\n",
       "      <td>casada</td>\n",
       "      <td>Profesional</td>\n",
       "      <td>1</td>\n",
       "      <td>Andina</td>\n",
       "      <td>2.1</td>\n",
       "    </tr>\n",
       "    <tr>\n",
       "      <th>497</th>\n",
       "      <td>54</td>\n",
       "      <td>femenino</td>\n",
       "      <td>divorciada</td>\n",
       "      <td>Secundaria</td>\n",
       "      <td>2</td>\n",
       "      <td>Andina</td>\n",
       "      <td>2.7</td>\n",
       "    </tr>\n",
       "    <tr>\n",
       "      <th>498</th>\n",
       "      <td>66</td>\n",
       "      <td>femenino</td>\n",
       "      <td>casada</td>\n",
       "      <td>Secundaria</td>\n",
       "      <td>2</td>\n",
       "      <td>Pacifica</td>\n",
       "      <td>3.0</td>\n",
       "    </tr>\n",
       "    <tr>\n",
       "      <th>499</th>\n",
       "      <td>36</td>\n",
       "      <td>masculino</td>\n",
       "      <td>cascada</td>\n",
       "      <td>Secundaria</td>\n",
       "      <td>5</td>\n",
       "      <td>Andina</td>\n",
       "      <td>2.4</td>\n",
       "    </tr>\n",
       "  </tbody>\n",
       "</table>\n",
       "<p>500 rows × 7 columns</p>\n",
       "</div>"
      ],
      "text/plain": [
       "     Edad      Genero Estado Civil  Escolaridad  Estrato     Region  Promedio\n",
       "0      66   masculino   divorciada  Profesional        1     Andina       0.9\n",
       "1      24    femenino   divorciada   Secundaria        3   Pacifica       3.2\n",
       "2      55   masculino       casada   Secundaria        3   Pacifica       2.1\n",
       "3      26        otro   divorciada   Secundaria        2  Orinoquia       2.1\n",
       "4      69  no binario   divorciada   Secundaria        3     Caribe       2.0\n",
       "..    ...         ...          ...          ...      ...        ...       ...\n",
       "495    24    femenino        viuda   Secundaria        1     Andina       2.9\n",
       "496    50  no binario       casada  Profesional        1     Andina       2.1\n",
       "497    54    femenino   divorciada   Secundaria        2     Andina       2.7\n",
       "498    66    femenino       casada   Secundaria        2   Pacifica       3.0\n",
       "499    36   masculino      cascada   Secundaria        5     Andina       2.4\n",
       "\n",
       "[500 rows x 7 columns]"
      ]
     },
     "execution_count": 1,
     "metadata": {},
     "output_type": "execute_result"
    }
   ],
   "source": [
    "# Importar librerías a utilizar\n",
    "import numpy as np\n",
    "import pandas as pd\n",
    "\n",
    "#Importar archivos\n",
    "column_names = [\"Edad\", \"Genero\", \"Estado Civil\", \"Escolaridad\", \"Estrato\", \"Region\"]\n",
    "info_edad = pd.read_csv(\"Archivos/edad.txt\")\n",
    "info_genero = pd.read_csv(\"Archivos/genero.txt\")\n",
    "info_estado_civil = pd.read_csv(\"Archivos/estado_civil.txt\")\n",
    "info_escolaridad = pd.read_csv(\"Archivos/escolaridad.txt\")\n",
    "info_estrato = pd.read_csv(\"Archivos/estrato.txt\")\n",
    "info_region = pd.read_csv(\"Archivos/region.txt\")\n",
    "info_promedio = pd.read_csv(\"Archivos/promedio.txt\")\n",
    "\n",
    "info = info_edad.join(info_genero.join(info_estado_civil.join(info_escolaridad.join(\n",
    "    info_estrato.join(info_region.join(info_promedio))))))\n",
    "info.columns = [\"Edad\", \"Genero\", \"Estado Civil\", \"Escolaridad\", \"Estrato\", \"Region\", \"Promedio\"]\n",
    "info\n",
    "primera_fila = pd.DataFrame({\"Edad\":[36],\"Genero\":[\"masculino\"],\"Estado Civil\":[\"cascada\"],\n",
    "                             \"Escolaridad\":[\"Secundaria\"],\"Estrato\":[5],\"Region\":[\"Andina\"], \"Promedio\":[2.4]}, index = [499])\n",
    "info3 = pd.concat([info,primera_fila])\n",
    "info3\n"
   ]
  },
  {
   "cell_type": "markdown",
   "metadata": {},
   "source": [
    "**Misión 2**\n",
    "\n",
    "Reportar las principales características en los datos.\n",
    "* *Versión base*: utilizar métricas básicas como conteos o promedios por categorías en los datos.\n",
    "* *Milla extra*: utilizar visualizaciones simples como diagramas de barras, de pastel u otros."
   ]
  },
  {
   "cell_type": "code",
   "execution_count": 2,
   "metadata": {},
   "outputs": [
    {
     "data": {
      "image/png": "[encoded data removed]",
      "text/plain": [
       "<Figure size 720x720 with 1 Axes>"
      ]
     },
     "metadata": {
      "needs_background": "light"
     },
     "output_type": "display_data"
    },
    {
     "name": "stdout",
     "output_type": "stream",
     "text": [
      "{'Mediana': 49.0, 'desviacion': 18.59485133040864}\n"
     ]
    },
    {
     "data": {
      "text/plain": [
       "\"\\nfunción que visualiza las características de una población dada\\n(nota que la variable 'poblacion' es local; podemos pasar cualquier población a la función)\\n\""
      ]
     },
     "execution_count": 2,
     "metadata": {},
     "output_type": "execute_result"
    }
   ],
   "source": [
    "# código\n",
    "\n",
    "# importación de paquetes necesarios\n",
    "import matplotlib.pyplot as plt\n",
    "# Ya se importaron en la anterior misión\n",
    "\n",
    "# función que calcula la mediana de una lista de datos numéricos\n",
    "# función que calcula la desviación de una lista de datos numéricos\n",
    "\n",
    "def mediana(lista):\n",
    "    mediana = np.median(lista)\n",
    "    desviacion = np.std(lista)\n",
    "    dic = {\"Mediana\":mediana,\"desviacion\":desviacion}\n",
    "    fig=plt.figure(figsize=(10,10))\n",
    "    ax = plt.subplot(111)\n",
    "    ax.hist(lista)\n",
    "    ax.set_xlabel(\"Edad\")\n",
    "    ax.set_ylabel(\"Frecuencia\")\n",
    "    ax.set_title(\"Histograma edad\")\n",
    "    plt.show()\n",
    "    return dic\n",
    "\n",
    "\n",
    "\n",
    "print(mediana(info3[\"Edad\"]))\n",
    "\n",
    "'''\n",
    "función que visualiza las características de una población dada\n",
    "(nota que la variable 'poblacion' es local; podemos pasar cualquier población a la función)\n",
    "'''"
   ]
  },
  {
   "cell_type": "markdown",
   "metadata": {},
   "source": [
    "## 2. Abordaje de la pregunta de negocio\n",
    "\n",
    "El comité encargado de diseñar el programa de becas ha tenido dificultades para llegar a acuerdos. Algunos piensan que el criterio principal de selección debería ser respecto a lo económico y académico, sin importar otras características personales, mientras que otros piensan que considerar estas características es, de hecho, parte del espíritu del programa.\n",
    "\n",
    "* El primer grupo sugiere que se deben tomar en orden ascendente los estratos y elegir, en cada uno de ellos, al 2% de personas con promedio académico superior en esa sub-población, hasta que se agoten las becas disponibles. En caso de quedar becas disponibles al final del proceso, se repite el mismo esquema, considerando que ya no se tienen en cuenta las personas que hayan sido elegidas en rondas anteriores.\n",
    "\n",
    "* El segundo grupo sugiere que los recibidores de becas deben estar igualmente distribuidos entre las diferentes regiones y generos, considerando, por supuesto, que para cada una de esas sub-poblaciones, las personas elegidas sean las de mejores promedios académicos.\n",
    "\n",
    "Dado que las diferencias entre estos grupos obedecen a su entendimiento particular del problema, el presidente del comité propone utilizar los datos disponibles de las encuestas, sugiriendo que se analice qué características tendría la población de elegidos bajo cada uno de los dos criterios expuestos."
   ]
  },
  {
   "cell_type": "markdown",
   "metadata": {},
   "source": [
    "**Misión 3**\n",
    "\n",
    "Defina la pregunta de negocio y la pregunta de *analytics* para esta situación."
   ]
  },
  {
   "cell_type": "code",
   "execution_count": 8,
   "metadata": {},
   "outputs": [
    {
     "data": {
      "text/html": [
       "<div>\n",
       "<style scoped>\n",
       "    .dataframe tbody tr th:only-of-type {\n",
       "        vertical-align: middle;\n",
       "    }\n",
       "\n",
       "    .dataframe tbody tr th {\n",
       "        vertical-align: top;\n",
       "    }\n",
       "\n",
       "    .dataframe thead th {\n",
       "        text-align: right;\n",
       "    }\n",
       "</style>\n",
       "<table border=\"1\" class=\"dataframe\">\n",
       "  <thead>\n",
       "    <tr style=\"text-align: right;\">\n",
       "      <th></th>\n",
       "      <th>Edad</th>\n",
       "      <th>Genero</th>\n",
       "      <th>Estado Civil</th>\n",
       "      <th>Escolaridad</th>\n",
       "      <th>Estrato</th>\n",
       "      <th>Region</th>\n",
       "      <th>Promedio</th>\n",
       "    </tr>\n",
       "  </thead>\n",
       "  <tbody>\n",
       "    <tr>\n",
       "      <th>37</th>\n",
       "      <td>47</td>\n",
       "      <td>femenino</td>\n",
       "      <td>casada</td>\n",
       "      <td>Secundaria</td>\n",
       "      <td>5</td>\n",
       "      <td>Caribe</td>\n",
       "      <td>3.3</td>\n",
       "    </tr>\n",
       "    <tr>\n",
       "      <th>98</th>\n",
       "      <td>64</td>\n",
       "      <td>femenino</td>\n",
       "      <td>viuda</td>\n",
       "      <td>Secundaria</td>\n",
       "      <td>5</td>\n",
       "      <td>Orinoquia</td>\n",
       "      <td>3.4</td>\n",
       "    </tr>\n",
       "    <tr>\n",
       "      <th>195</th>\n",
       "      <td>54</td>\n",
       "      <td>masculino</td>\n",
       "      <td>soltera</td>\n",
       "      <td>Profesional</td>\n",
       "      <td>5</td>\n",
       "      <td>Caribe</td>\n",
       "      <td>2.4</td>\n",
       "    </tr>\n",
       "    <tr>\n",
       "      <th>241</th>\n",
       "      <td>50</td>\n",
       "      <td>femenino</td>\n",
       "      <td>casada</td>\n",
       "      <td>Profesional</td>\n",
       "      <td>5</td>\n",
       "      <td>Caribe</td>\n",
       "      <td>3.3</td>\n",
       "    </tr>\n",
       "    <tr>\n",
       "      <th>258</th>\n",
       "      <td>60</td>\n",
       "      <td>no binario</td>\n",
       "      <td>soltera</td>\n",
       "      <td>Secundaria</td>\n",
       "      <td>5</td>\n",
       "      <td>Andina</td>\n",
       "      <td>4.8</td>\n",
       "    </tr>\n",
       "    <tr>\n",
       "      <th>295</th>\n",
       "      <td>56</td>\n",
       "      <td>femenino</td>\n",
       "      <td>casada</td>\n",
       "      <td>Secundaria</td>\n",
       "      <td>5</td>\n",
       "      <td>Caribe</td>\n",
       "      <td>2.4</td>\n",
       "    </tr>\n",
       "    <tr>\n",
       "      <th>350</th>\n",
       "      <td>18</td>\n",
       "      <td>masculino</td>\n",
       "      <td>divorciada</td>\n",
       "      <td>Secundaria</td>\n",
       "      <td>5</td>\n",
       "      <td>Caribe</td>\n",
       "      <td>2.9</td>\n",
       "    </tr>\n",
       "    <tr>\n",
       "      <th>353</th>\n",
       "      <td>77</td>\n",
       "      <td>masculino</td>\n",
       "      <td>soltera</td>\n",
       "      <td>Secundaria</td>\n",
       "      <td>5</td>\n",
       "      <td>Caribe</td>\n",
       "      <td>1.6</td>\n",
       "    </tr>\n",
       "    <tr>\n",
       "      <th>359</th>\n",
       "      <td>23</td>\n",
       "      <td>femenino</td>\n",
       "      <td>soltera</td>\n",
       "      <td>Profesional</td>\n",
       "      <td>5</td>\n",
       "      <td>Pacifica</td>\n",
       "      <td>2.2</td>\n",
       "    </tr>\n",
       "    <tr>\n",
       "      <th>430</th>\n",
       "      <td>79</td>\n",
       "      <td>masculino</td>\n",
       "      <td>casada</td>\n",
       "      <td>Secundaria</td>\n",
       "      <td>5</td>\n",
       "      <td>Andina</td>\n",
       "      <td>1.0</td>\n",
       "    </tr>\n",
       "    <tr>\n",
       "      <th>460</th>\n",
       "      <td>20</td>\n",
       "      <td>femenino</td>\n",
       "      <td>casada</td>\n",
       "      <td>Profesional</td>\n",
       "      <td>5</td>\n",
       "      <td>Caribe</td>\n",
       "      <td>2.0</td>\n",
       "    </tr>\n",
       "    <tr>\n",
       "      <th>494</th>\n",
       "      <td>23</td>\n",
       "      <td>femenino</td>\n",
       "      <td>casada</td>\n",
       "      <td>Secundaria</td>\n",
       "      <td>5</td>\n",
       "      <td>Caribe</td>\n",
       "      <td>2.1</td>\n",
       "    </tr>\n",
       "    <tr>\n",
       "      <th>499</th>\n",
       "      <td>36</td>\n",
       "      <td>masculino</td>\n",
       "      <td>cascada</td>\n",
       "      <td>Secundaria</td>\n",
       "      <td>5</td>\n",
       "      <td>Andina</td>\n",
       "      <td>2.4</td>\n",
       "    </tr>\n",
       "  </tbody>\n",
       "</table>\n",
       "</div>"
      ],
      "text/plain": [
       "     Edad      Genero Estado Civil  Escolaridad  Estrato     Region  Promedio\n",
       "37     47    femenino       casada   Secundaria        5     Caribe       3.3\n",
       "98     64    femenino        viuda   Secundaria        5  Orinoquia       3.4\n",
       "195    54   masculino      soltera  Profesional        5     Caribe       2.4\n",
       "241    50    femenino       casada  Profesional        5     Caribe       3.3\n",
       "258    60  no binario      soltera   Secundaria        5     Andina       4.8\n",
       "295    56    femenino       casada   Secundaria        5     Caribe       2.4\n",
       "350    18   masculino   divorciada   Secundaria        5     Caribe       2.9\n",
       "353    77   masculino      soltera   Secundaria        5     Caribe       1.6\n",
       "359    23    femenino      soltera  Profesional        5   Pacifica       2.2\n",
       "430    79   masculino       casada   Secundaria        5     Andina       1.0\n",
       "460    20    femenino       casada  Profesional        5     Caribe       2.0\n",
       "494    23    femenino       casada   Secundaria        5     Caribe       2.1\n",
       "499    36   masculino      cascada   Secundaria        5     Andina       2.4"
      ]
     },
     "execution_count": 8,
     "metadata": {},
     "output_type": "execute_result"
    }
   ],
   "source": [
    "# respuesta en texto (solo leeremos los primeros 300 caracteres de la respuesta)\n",
    "\n",
    "pregunta_negocio = ''\n",
    "pregunta_analytics = ''\n",
    "indices = info3[info3[\"Estrato\"]==5 ]\n",
    "indices\n"
   ]
  },
  {
   "cell_type": "markdown",
   "metadata": {},
   "source": [
    "**Misión 4**\n",
    "\n",
    "Desarrollar un algoritmo que permita conocer la población que sería becada según los criterios propuestos por el *primer grupo* mencionado arriba."
   ]
  },
  {
   "cell_type": "code",
   "execution_count": 3,
   "metadata": {},
   "outputs": [],
   "source": [
    "# código\n",
    "def criterio1(info3, cantidad_becas, percentil):\n",
    "    info4 = info3.copy()\n",
    "    becas_disponibles = cantidad_becas\n",
    "    estrato = 1\n",
    "    indices_escogidos = pd.Index([])\n",
    "    while becas_disponibles > 0:\n",
    "        for i in range(6):\n",
    "            if becas_disponibles > 0:\n",
    "                #print(\"estrato\", i+1)\n",
    "                estrato = info4[info4[\"Estrato\"] == i+1]\n",
    "                if len(estrato)!= 0:\n",
    "                    percentil2 = np.percentile(estrato[\"Promedio\"],100-percentil)\n",
    "                    estrato_filtrado = estrato[estrato[\"Promedio\"] >= percentil2]\n",
    "                    if(becas_disponibles < len(estrato_filtrado)):\n",
    "                        #print(\"entré\")\n",
    "                        estrato_filtrado = estrato[estrato[\"Promedio\"] >= percentil2][:becas_disponibles]\n",
    "            becas_disponibles -= len(estrato_filtrado)\n",
    "            indices_escogidos = indices_escogidos.append(estrato_filtrado.index)\n",
    "            #print(indices_escogidos)\n",
    "            if(becas_disponibles == 0):\n",
    "                break\n",
    "\n",
    "        becas_disponibles = cantidad_becas - len(indices_escogidos)\n",
    "        #print(len(indices_escogidos))\n",
    "        info4.loc[indices_escogidos,\"Promedio\"] = 0\n",
    "        #print(becas_disponibles)\n",
    "    return info3.loc[indices_escogidos]\n"
   ]
  },
  {
   "cell_type": "markdown",
   "metadata": {},
   "source": [
    "**Misión 5**\n",
    "\n",
    "Desarrollar un algoritmo que permita conocer la población que sería becada según los criterios propuestos por el *segundo grupo* mencionado arriba."
   ]
  },
  {
   "cell_type": "code",
   "execution_count": 4,
   "metadata": {
    "scrolled": true
   },
   "outputs": [],
   "source": [
    "# código\n",
    "def criterio2(info3, cantidad_becas):\n",
    "    info4 = info3.copy()\n",
    "    indices_escogidos = pd.Index([])\n",
    "    regiones = info3[\"Region\"].unique()\n",
    "    generos = info3[\"Genero\"].unique()\n",
    "    becas_por_grupo = int(cantidad_becas / (len(regiones)*len(generos)))\n",
    "    becas_usadas = 0\n",
    "    while  cantidad_becas / (len(regiones)*len(generos)) >= 1:\n",
    "        becas_por_grupo = int(cantidad_becas / (len(regiones)*len(generos)))\n",
    "\n",
    "        for r in regiones:\n",
    "            for g in generos:\n",
    "                info5 = info4[info4[\"Region\"] == r]\n",
    "                info6 = info5[info5[\"Genero\"] == g]\n",
    "                info7 = info6[\"Promedio\"].sort_values(ascending = False)\n",
    "                escogidos = info7[:becas_por_grupo].index\n",
    "                #print(r,g,escogidos)\n",
    "                becas_usadas += len(escogidos)\n",
    "                indices_escogidos = indices_escogidos.append(escogidos)\n",
    "        info4.loc[indices_escogidos,\"Region\"] = \"\"\n",
    "        #print(info4.loc[indices_escogidos])\n",
    "        cantidad_becas = cantidad_becas - becas_usadas\n",
    "        becas_usadas = 0\n",
    "    #print(info4.loc[indices_escogidos])\n",
    "    prueba = info3.loc[indices_escogidos]\n",
    "    prueba = prueba[prueba[\"Region\"] == regiones[0]]\n",
    "    #print(prueba)\n",
    "    return info3.loc[indices_escogidos]"
   ]
  },
  {
   "cell_type": "markdown",
   "metadata": {},
   "source": [
    "**Misión 6**\n",
    "\n",
    "Desarrollar un algoritmo, a partir de lo anterior, cuyo resultado permita al comité comparar fácilmente las características de las dos poblaciones hipotéticas que recibirían becas.\n",
    "\n",
    "*Ayuda*: considera utilizar tus implementaciones de la *Misión 2* para facilitar esta misión."
   ]
  },
  {
   "cell_type": "code",
   "execution_count": 21,
   "metadata": {},
   "outputs": [
    {
     "name": "stdout",
     "output_type": "stream",
     "text": [
      "[[<AxesSubplot:> <AxesSubplot:>]\n",
      " [<AxesSubplot:> <AxesSubplot:>]\n",
      " [<AxesSubplot:> <AxesSubplot:>]]\n"
     ]
    },
    {
     "data": {
      "image/png": "[encoded data removed]",
      "text/plain": [
       "<Figure size 720x720 with 6 Axes>"
      ]
     },
     "metadata": {
      "needs_background": "light"
     },
     "output_type": "display_data"
    }
   ],
   "source": [
    "# código\n",
    "cant_becas = 200\n",
    "fig, ax =plt.subplots(3,2, figsize=(10,10))\n",
    "\n",
    "fig1 = ax[0,0].hist(criterio1(info3,cant_becas,3)[\"Promedio\"])\n",
    "#ax[0].set_xlabel(\"Edad\")\n",
    "#ax[0].set_ylabel(\"Frecuencia\")\n",
    "#ax[0].set_title(\"Histograma edad\")\n",
    "\n",
    "fig2 = ax[0,1].hist(criterio2(info3,cant_becas)[\"Promedio\"])\n",
    "#ax[1].set_xlabel(\"Edad\")\n",
    "#ax[1].set_ylabel(\"Frecuencia\")\n",
    "#ax[1].set_title(\"Histograma edad\")\n",
    "\n",
    "fig3 = ax[1,0].hist(criterio1(info3,cant_becas,3)[\"Region\"])\n",
    "fig4 = ax[1,1].hist(criterio2(info3,cant_becas)[\"Region\"])\n",
    "fig5 = ax[2,0].hist(criterio1(info3,cant_becas,3)[\"Genero\"])\n",
    "fig6 = ax[2,1].hist(criterio2(info3,cant_becas)[\"Genero\"])\n",
    "\n",
    "print(ax)\n"
   ]
  },
  {
   "cell_type": "markdown",
   "metadata": {},
   "source": [
    "## 3. Desarrollo de una solución analítica\n",
    "\n",
    "Reconociendo la complejidad de este problema (que no permite reducirlo a una dicotomía) y viendo el potencial del análisis de datos para enriquecer la discusión y los insumos para tomar decisiones, el comité ha solicitado una herramienta analítica que les permita . Sus requerimientos son:\n",
    "\n",
    "* La herramienta debe permitir ingresar una política de selección de becados.\n",
    "    * Se debe poder elegir el rango de edad de los aspirantes.\n",
    "    * Se debe poder elegir qué proporción de las becas se asigna a cada género, a cada estrato, o a cada región (pero sólo debe elegirse uno de estos criterios).\n",
    "* La herramienta debe generar un resultado que permita al comité analizar las características de la población potencialmente elegida si se usara la política ingresada.\n",
    "\n",
    "**Misión 7**\n",
    "\n",
    "Desarrollar, a partir de lo construido hasta el momento, un algoritmo que permita cumplir con los requerimientos del comité."
   ]
  },
  {
   "cell_type": "code",
   "execution_count": null,
   "metadata": {},
   "outputs": [],
   "source": [
    "# código\n",
    "\n",
    "    \n",
    "    "
   ]
  },
  {
   "cell_type": "markdown",
   "metadata": {},
   "source": [
    "**Misión 8**\n",
    "\n",
    "Proponer, con base en tu propio uso de la herramienta, una política de ingreso que consideres apropiada dado el contexto proporcionado. Si lo crees adecuado, explica, máximo 500 caracteres, las virtudes de tu propuesta (esto puede estar soportado en los datos, o no)."
   ]
  },
  {
   "cell_type": "code",
   "execution_count": null,
   "metadata": {},
   "outputs": [],
   "source": [
    "# respuesta en texto (solo leeremos los primeros 300 caracteres de la respuesta)\n",
    "\n",
    "respuesta = ''"
   ]
  },
  {
   "cell_type": "markdown",
   "metadata": {},
   "source": [
    "**Misión 9**\n",
    "\n",
    "Ejecutar el algoritmo desarrollado en la *Misión 7* sobre la política que sugieres proponer al comité. Explicar claramente tus conlusiones con el soporte de los resultados de la herramienta."
   ]
  },
  {
   "cell_type": "code",
   "execution_count": null,
   "metadata": {},
   "outputs": [],
   "source": [
    "# código\n",
    "\n",
    "conclusion = ''"
   ]
  },
  {
   "cell_type": "markdown",
   "metadata": {},
   "source": [
    "## Referencias\n",
    "* Discriminación Positiva<br> \n",
    "https://es.wikipedia.org/wiki/Discriminaci%C3%B3n_positiva\n",
    "* Análisis de formulación del programa “Ser Pilo Paga”<br>\n",
    "https://repository.urosario.edu.co/handle/10336/12526\n",
    "* La acción afirmativa en la Universidad de los Andes: El caso del programa \"Oportunidades para talentos nacionales\"<br> http://www.scielo.org.co/scielo.php?script=sci_arttext&pid=S0123-885X2004000300005\n",
    "* Acción afirmativa y equidad: un análisis desde la propuesta de Thomas Nagel<br>\n",
    "http://www.scielo.org.mx/scielo.php?script=sci_arttext&pid=S2007-24062016000200049"
   ]
  },
  {
   "cell_type": "markdown",
   "metadata": {},
   "source": [
    "## Créditos"
   ]
  },
  {
   "cell_type": "markdown",
   "metadata": {},
   "source": [
    "Camilo Gómez - 11/06/21<br>\n",
    "*Revisado*: 25/08/21"
   ]
  },
  {
   "cell_type": "code",
   "execution_count": null,
   "metadata": {},
   "outputs": [],
   "source": []
  }
 ],
 "metadata": {
  "kernelspec": {
   "display_name": "Python 3",
   "language": "python",
   "name": "python3"
  },
  "language_info": {
   "codemirror_mode": {
    "name": "ipython",
    "version": 3
   },
   "file_extension": ".py",
   "mimetype": "text/x-python",
   "name": "python",
   "nbconvert_exporter": "python",
   "pygments_lexer": "ipython3",
   "version": "3.7.3"
  }
 },
 "nbformat": 4,
 "nbformat_minor": 1
}
