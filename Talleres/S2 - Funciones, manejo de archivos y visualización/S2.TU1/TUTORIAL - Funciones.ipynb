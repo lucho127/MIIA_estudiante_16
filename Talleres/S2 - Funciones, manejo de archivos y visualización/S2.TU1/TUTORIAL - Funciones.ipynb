{
 "cells": [
  {
   "cell_type": "markdown",
   "metadata": {},
   "source": [
    "<img src=\"Archivos/miad4.png\" width=800x>\n",
    "\n",
    "# Funciones\n",
    "\n",
    "En programación, una función es un bloque de código dedicado a cumplir una tarea específica, el cual puede ser reutilizado a lo largo de un programa. Una de las ventajas más notorias de las funciones es que evitan repetir un mismo bloque de código en diferentes partes del mismo programa. Adicionalmente, las funciones ayudan a desarrollar código ordenado y estructurado, además de permitir flexibilidad en el desarrollo de algoritmos. En el contexto de análisis de datos nos relacionamos con funciones, ya sea que usemos las que están disponibles en software especializado o que las programemos para algún propósito específico. \n",
    "\n",
    "En este tutorial implementaremos funciones en lenguaje Python."
   ]
  },
  {
   "cell_type": "markdown",
   "metadata": {},
   "source": [
    "## Requisitos\n",
    "Para este tutorial necesitarás:\n",
    "* Utilizar estructuras de datos (listas, tuplas, diccionarios).\n",
    "* Utilizar estructuras de control (`if`, `for`, `while`)."
   ]
  },
  {
   "cell_type": "markdown",
   "metadata": {},
   "source": [
    "## Objetivos\n",
    "\n",
    "Al final de este tutorial podrás:\n",
    "\n",
    "**1.** Implementar funciones e integrarlas con condicionales y ciclos. <br>\n",
    "**2.** Implementar funciones anónimas e integrarlas con condicionales."
   ]
  },
  {
   "cell_type": "markdown",
   "metadata": {},
   "source": [
    "## 1. Funciones\n",
    "En general, una función recibe uno o más elementos como entrada, efectúa ciertas operaciones a partir ellos y retorna uno o más elementos como salida. Así, podemos entender las funciones como una composición de tres partes de la siguiente manera:\n",
    "\n",
    "1. Parámetros: elementos recibidos para llevar a cabo las operaciones definidas en el cuerpo de la función. Estos pueden ser incluso estructuras de datos.\n",
    "2. Cuerpo: sección donde definimos las operaciones que se llevarán a cabo con el fin de producir un resultado. Aquí podemos definir variables e incluir estructuras de control.\n",
    "3. Retorno: resultado de ejecutar la función.\n",
    "\n",
    "También se da el caso en que una función no recibe parámetros o no genera un retorno; en este caso, el propósito de la función suele ser modificar un archivo o variable global.\n",
    "\n",
    "### 1.1. Sintaxis general\n",
    "La sintaxis de una función en Python es la siguiente:\n",
    "\n",
    "```python\n",
    "def nombre_de_la_funcion(parametros):\n",
    "    \n",
    "    bloque_codigo\n",
    "      \n",
    "    return resultado\n",
    "```"
   ]
  },
  {
   "cell_type": "markdown",
   "metadata": {},
   "source": [
    "##### Ejemplo 3\n",
    "Un empresario requiere una calculadora para sumar el ingreso bruto que producen sus empresas: 453 USD (BeEducation) y 734 USD (WeTravel). Para esto, creemos una función que sume dos números ingresados por parámetro."
   ]
  },
  {
   "cell_type": "code",
   "execution_count": 1,
   "metadata": {},
   "outputs": [
    {
     "name": "stdout",
     "output_type": "stream",
     "text": [
      "La suma de los ingresos brutos es: 1187 USD\n"
     ]
    }
   ],
   "source": [
    "def suma(x,y):\n",
    "    respuesta = x + y\n",
    "    return respuesta\n",
    "\n",
    "resp = suma(453,734)\n",
    "print(\"La suma de los ingresos brutos es: \" + str(resp) + \" USD\")"
   ]
  },
  {
   "cell_type": "markdown",
   "metadata": {},
   "source": [
    "###### Ejemplo 4\n",
    "Un empresario quiere calcular el bono de fin de año de sus empleados, el cual consiste en duplicar su salario para el mes de Diciembre. Para esto, cuenta con una lista de los salarios de todos sus empleados. Creemos una función que tome una lista ingresada como parámetro y duplique el valor de cada uno de sus elementos."
   ]
  },
  {
   "cell_type": "code",
   "execution_count": 2,
   "metadata": {},
   "outputs": [
    {
     "data": {
      "text/plain": [
       "[2400, 6800, 4600, 3600]"
      ]
     },
     "execution_count": 2,
     "metadata": {},
     "output_type": "execute_result"
    }
   ],
   "source": [
    "def calcular_bono(lista):\n",
    "    \n",
    "    for i in range(len(lista)):\n",
    "        lista[i] = lista[i]*2\n",
    "        \n",
    "    return lista\n",
    "\n",
    "lista = [1200,3400,2300,1800]\n",
    "\n",
    "calcular_bono(lista)"
   ]
  },
  {
   "cell_type": "markdown",
   "metadata": {},
   "source": [
    "### 1.2. Parámetros opcionales"
   ]
  },
  {
   "cell_type": "markdown",
   "metadata": {},
   "source": [
    "En ocasiones, establecemos valores predeterminados para uno o más parámetros de una función. Para esto, utilizamos la sintaxis `nombre_parámetro = valor`, dónde `nombre_párametro` es el nombre del parámetro cuyo valor deseamos predeterminar y `valor` el valor predeterminado. Es importante recalcar que el parámetro solo tomará el valor predeterminado si no se ingresa un valor diferente para este.\n",
    "\n",
    "A continuación presentamos un ejemplo de una función que recibe parámetros opcionales."
   ]
  },
  {
   "cell_type": "markdown",
   "metadata": {},
   "source": [
    "##### Ejemplo 5\n",
    "En este ejemplo definiremos una función que nos permita sumar o multiplicar dos números. Está función tendrá como parámetros los dos números que se quieren operar y un tercer parámetro opcional que definirá si los números se sumaran o se multiplicaran."
   ]
  },
  {
   "cell_type": "code",
   "execution_count": 3,
   "metadata": {},
   "outputs": [],
   "source": [
    "def operar(x, y, tipo_operacion = '+'):\n",
    "    \n",
    "    respuesta = 0\n",
    "    \n",
    "    if tipo_operacion == '+':\n",
    "        \n",
    "        respuesta = x + y\n",
    "        \n",
    "    elif tipo_operacion == '*':\n",
    "        \n",
    "        respuesta = x * y\n",
    "        \n",
    "    return respuesta"
   ]
  },
  {
   "cell_type": "markdown",
   "metadata": {},
   "source": [
    "Como podemos ver, dado que el parámetro opcional esta inicializado por defecto en '+', si no ingresamos un tercer parámetro, la función sumará los dos números."
   ]
  },
  {
   "cell_type": "code",
   "execution_count": 4,
   "metadata": {
    "scrolled": true
   },
   "outputs": [
    {
     "data": {
      "text/plain": [
       "5"
      ]
     },
     "execution_count": 4,
     "metadata": {},
     "output_type": "execute_result"
    }
   ],
   "source": [
    "operar(2,3)"
   ]
  },
  {
   "cell_type": "markdown",
   "metadata": {},
   "source": [
    "Por el contrario, si queremos hacer uso del parámetro opcional e ingresamos el valor de '*', la función multiplicará los dos números:"
   ]
  },
  {
   "cell_type": "code",
   "execution_count": 5,
   "metadata": {},
   "outputs": [
    {
     "data": {
      "text/plain": [
       "6"
      ]
     },
     "execution_count": 5,
     "metadata": {},
     "output_type": "execute_result"
    }
   ],
   "source": [
    "operar(2, 3, tipo_operacion = '*')"
   ]
  },
  {
   "cell_type": "markdown",
   "metadata": {},
   "source": [
    "## 2. Funciones anónimas (`lambda`)\n",
    "Las funciones anónimas son un tipo de función ampliamente utilizado en la programación y nos permiten comprimir una función en una linea de código. Sin embargo, no pueden tener más de una expresión dentro de su cuerpo. Este tipo de funciones se pueden o no asignar a una variable, de allí que sean llamadas funciones anónimas. En la práctica, las funciones anónimas nos ayudan a escribir código de manera concisa y ordenada. Se conocen como funciones `lambda` ya que Python utiliza esta palabra reservada para declararlas.\n",
    "\n",
    "### 2.1. Sintaxis general\n",
    "*Función asignada a una variable*\n",
    "```python\n",
    "nombre_funcion = lambda parametros: código_funcion\n",
    "```\n",
    "*Función sin asignar*\n",
    "```python\n",
    "lambda parametros: código_funcion\n",
    "```"
   ]
  },
  {
   "cell_type": "markdown",
   "metadata": {},
   "source": [
    "##### Ejemplo 6\n",
    "Retomemos el ejemplo del empresario que desea sumar los ingresos brutos de sus empresas. Para esto, creemos una función anónima para solucionar su requerimiento."
   ]
  },
  {
   "cell_type": "code",
   "execution_count": 6,
   "metadata": {
    "scrolled": true
   },
   "outputs": [
    {
     "name": "stdout",
     "output_type": "stream",
     "text": [
      "La suma de 1 y 2 es : 3\n",
      "La suma de 5 y 6 es : 11\n"
     ]
    }
   ],
   "source": [
    "suma_lambda = lambda x,y: x + y\n",
    "\n",
    "resp1 = suma_lambda(1,2)\n",
    "print(\"La suma de 1 y 2 es : \" + str(resp1))\n",
    "\n",
    "resp2 = suma_lambda(5,6)\n",
    "print(\"La suma de 5 y 6 es : \" + str(resp2))"
   ]
  },
  {
   "cell_type": "markdown",
   "metadata": {},
   "source": [
    "##### Ejemplo 7\n",
    "El ministerio de transporte desea conocer el último dígito de la placa de un vehículo es par o impar con el fin de aplicar restricciones a la movilidad. Para esto, creemos una función anónima que permita determinar si un número ingresado por parámetro es par o impar."
   ]
  },
  {
   "cell_type": "code",
   "execution_count": 7,
   "metadata": {},
   "outputs": [
    {
     "name": "stdout",
     "output_type": "stream",
     "text": [
      "¿El número 745 es par? False\n",
      "¿El número 182 es par? True\n"
     ]
    }
   ],
   "source": [
    "paridad = lambda num: num % 2 == 0\n",
    "\n",
    "print(\"¿El número 745 es par? \" + str(paridad(745)))\n",
    "\n",
    "print(\"¿El número 182 es par? \" + str(paridad(182)))"
   ]
  },
  {
   "cell_type": "markdown",
   "metadata": {},
   "source": [
    "### 2.2. Funciones anónimas con condicional\n",
    "\n",
    "Las funciones anónimas también pueden contener un condicional, el cual nos permite modelar diversos casos dentro de la función.\n",
    "\n",
    "#### Sintaxis general\n",
    "```python\n",
    "nombreFuncion = lambda parametros: códigoFunción if condicion else códigoFunción2\n",
    "```"
   ]
  },
  {
   "cell_type": "markdown",
   "metadata": {},
   "source": [
    "##### Ejemplo 8\n",
    "\n",
    "El gerente de un banco desea conocer el aforo de su sucursal en un momento dado. Creemos una función anónima que revise la capacidad del banco, dada una lista de personas que se encuentran en la fila (lista `personas`). El banco tiene capacidad para 10 clientes en fila. La función retornará `'Banco con capacidad'` si el tamaño de la lista de personas es menor que la capacidad del banco. De lo contrario, la función retornará `'Banco lleno'`."
   ]
  },
  {
   "cell_type": "code",
   "execution_count": 9,
   "metadata": {},
   "outputs": [
    {
     "data": {
      "text/plain": [
       "'Banco lleno.'"
      ]
     },
     "execution_count": 9,
     "metadata": {},
     "output_type": "execute_result"
    }
   ],
   "source": [
    "personas = ['Carlos', 'Juan', 'Laura', 'Luisa','Jorge','Jhon','Ana','Jorge','Jhon','Ana']\n",
    "\n",
    "estadoBanco = lambda lista: \"Banco con capacidad.\" if len(lista) < 10 else \"Banco lleno.\"\n",
    "\n",
    "estadoBanco(personas)"
   ]
  },
  {
   "cell_type": "markdown",
   "metadata": {
    "collapsed": true
   },
   "source": [
    "## Créditos\n",
    "\n",
    "__Autor(es)__: Camilo Falla Moreno, Juan David Reyes, Diego Alejandro Cely Gómez\n",
    " \n",
    "__Fecha última actualización__: 23/08/2021"
   ]
  }
 ],
 "metadata": {
  "kernelspec": {
   "display_name": "Python 3",
   "language": "python",
   "name": "python3"
  },
  "language_info": {
   "codemirror_mode": {
    "name": "ipython",
    "version": 3
   },
   "file_extension": ".py",
   "mimetype": "text/x-python",
   "name": "python",
   "nbconvert_exporter": "python",
   "pygments_lexer": "ipython3",
   "version": "3.8.8"
  }
 },
 "nbformat": 4,
 "nbformat_minor": 2
}
